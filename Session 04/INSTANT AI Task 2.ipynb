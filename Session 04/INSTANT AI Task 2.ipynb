{
 "cells": [
  {
   "cell_type": "markdown",
   "id": "e2a70712",
   "metadata": {},
   "source": [
    "# INSTANT AI Task 2"
   ]
  },
  {
   "cell_type": "markdown",
   "id": "9c28ef2a",
   "metadata": {},
   "source": [
    "1. Write a Python program to find those numbers which are divisible by 7\n",
    "and multiple of 5, between 1500 and 2700 (both included)."
   ]
  },
  {
   "cell_type": "code",
   "execution_count": 1,
   "id": "9231ed0e",
   "metadata": {
    "ExecuteTime": {
     "end_time": "2022-08-04T22:38:47.873496Z",
     "start_time": "2022-08-04T22:38:47.860218Z"
    }
   },
   "outputs": [],
   "source": [
    "def fun(start, end):\n",
    "    nums = []\n",
    "    while start <= end:\n",
    "        if start % 7 == 0: nums.append(start)\n",
    "        start += 5\n",
    "    return nums\n",
    "\n",
    "# fun(1500, 2700)"
   ]
  },
  {
   "cell_type": "markdown",
   "id": "9fbaea21",
   "metadata": {},
   "source": [
    "2. Write a Python program to convert temperatures to and from celsius,\n",
    "fahrenheit.\n",
    "[ Formula : c/5 = (f-32)/9 [ where c = temperature in celsius and f = temperature in\n",
    "fahrenheit ]."
   ]
  },
  {
   "cell_type": "code",
   "execution_count": 2,
   "id": "da013232",
   "metadata": {
    "ExecuteTime": {
     "end_time": "2022-08-04T22:38:47.881492Z",
     "start_time": "2022-08-04T22:38:47.876965Z"
    }
   },
   "outputs": [],
   "source": [
    "def toCelsius(f):\n",
    "    return (f - 32) * 5/9\n",
    "\n",
    "def toFahrenheit(c):\n",
    "    return (c * 9/5) + 32"
   ]
  },
  {
   "cell_type": "markdown",
   "id": "6508d2ff",
   "metadata": {},
   "source": [
    "3. Write a Python program to construct the following pattern, using a\n",
    "nested for loop.\n",
    ">'* <br>\n",
    ">'* * <br>\n",
    ">'* * * <br>\n",
    ">'* * * * <br>\n",
    ">'* * * * * <br>\n",
    ">'* * * * <br>\n",
    ">'* * * <br>\n",
    ">'* * <br>\n",
    ">'* <br>"
   ]
  },
  {
   "cell_type": "code",
   "execution_count": 3,
   "id": "6830c2e1",
   "metadata": {
    "ExecuteTime": {
     "end_time": "2022-08-04T22:38:47.890103Z",
     "start_time": "2022-08-04T22:38:47.884439Z"
    }
   },
   "outputs": [],
   "source": [
    "def stars(n):\n",
    "    for line in range(1, 2*n):\n",
    "        if line <= n:\n",
    "            for star in range(1, line+1): print(\"*\", end=\"\")\n",
    "            print()\n",
    "        else:\n",
    "            for star in range(2*n-line, 0, -1): print(\"*\", end=\"\")\n",
    "            print()\n",
    "# stars(5)"
   ]
  },
  {
   "cell_type": "markdown",
   "id": "79567a36",
   "metadata": {},
   "source": [
    "4.Write a Python program that accepts a word from the user and reverse\n",
    "it."
   ]
  },
  {
   "cell_type": "code",
   "execution_count": 4,
   "id": "4e4837d7",
   "metadata": {
    "ExecuteTime": {
     "end_time": "2022-08-04T22:38:47.897165Z",
     "start_time": "2022-08-04T22:38:47.893402Z"
    }
   },
   "outputs": [],
   "source": [
    "def reverse(word):\n",
    "    return word[::-1]\n",
    "\n",
    "# reverse(input(\"Enter your word: \"))"
   ]
  },
  {
   "cell_type": "markdown",
   "id": "80d7eec3",
   "metadata": {},
   "source": [
    "5. Write a Python function to find the Max of three numbers."
   ]
  },
  {
   "cell_type": "code",
   "execution_count": 5,
   "id": "a8dd84a4",
   "metadata": {
    "ExecuteTime": {
     "end_time": "2022-08-04T22:38:47.904956Z",
     "start_time": "2022-08-04T22:38:47.899708Z"
    }
   },
   "outputs": [],
   "source": [
    "# We can use built-in function max() for any number of parameters\n",
    "# print(max(10, 15, 20))\n",
    "\n",
    "def findMax(n1, n2, n3):\n",
    "    if n1 >= n2 and n1 >= n3: return n1\n",
    "    elif n2 >= n1 and n2 >= n3: return n2\n",
    "    elif n3 >= n2 and n3 >= n1: return n3\n",
    "\n",
    "# findMax(10, 15, 20)"
   ]
  },
  {
   "cell_type": "markdown",
   "id": "a327e54d",
   "metadata": {},
   "source": [
    "6. Write a Python function to sum all the numbers in a list."
   ]
  },
  {
   "cell_type": "code",
   "execution_count": 6,
   "id": "2b69cd68",
   "metadata": {
    "ExecuteTime": {
     "end_time": "2022-08-04T22:38:47.912975Z",
     "start_time": "2022-08-04T22:38:47.908984Z"
    }
   },
   "outputs": [],
   "source": [
    "# We can use built-in function sum() for any number of parameters\n",
    "# print(sum([1, 2, 3, 4]))\n",
    "\n",
    "def sumThem(List):\n",
    "    _sum = 0\n",
    "    for element in List: _sum += element\n",
    "    return _sum\n",
    "\n",
    "# sumThem([1, 2, 3, 4])"
   ]
  },
  {
   "cell_type": "markdown",
   "id": "12b195a7",
   "metadata": {},
   "source": [
    "7. Write a Python program that prints all the numbers from 0 to 6 except 3\n",
    "and 6. <br>\n",
    "Note : Use 'continue' statement."
   ]
  },
  {
   "cell_type": "code",
   "execution_count": 7,
   "id": "0cbbc8fe",
   "metadata": {
    "ExecuteTime": {
     "end_time": "2022-08-04T22:38:47.921026Z",
     "start_time": "2022-08-04T22:38:47.915733Z"
    }
   },
   "outputs": [],
   "source": [
    "def printNums(start, end, exp):\n",
    "    for i in range(start, end+1):\n",
    "        if i in exp: continue\n",
    "        else: print(i, end=\" \")\n",
    "            \n",
    "# printNums(0, 6, [3, 6])"
   ]
  },
  {
   "cell_type": "markdown",
   "id": "cd0df278",
   "metadata": {},
   "source": [
    "8. Write a Python function to calculate the factorial of a number (a non-negative integer). The function accepts the number as an argument."
   ]
  },
  {
   "cell_type": "code",
   "execution_count": 8,
   "id": "9eaa5c81",
   "metadata": {
    "ExecuteTime": {
     "end_time": "2022-08-04T22:38:47.929720Z",
     "start_time": "2022-08-04T22:38:47.924927Z"
    }
   },
   "outputs": [],
   "source": [
    "def factorial(number):\n",
    "    if number < 0: return -1\n",
    "    elif not number: return 1\n",
    "    else: return number * factorial(number-1)\n",
    "\n",
    "# print(factorial(-5))\n",
    "# print(factorial(0))\n",
    "# print(factorial(5))"
   ]
  },
  {
   "cell_type": "markdown",
   "id": "e5be4199",
   "metadata": {},
   "source": [
    "9. Write a Python function that takes a list and returns a new list with\n",
    "unique elements of the first list."
   ]
  },
  {
   "cell_type": "code",
   "execution_count": 9,
   "id": "22365e4e",
   "metadata": {
    "ExecuteTime": {
     "end_time": "2022-08-04T22:38:47.935675Z",
     "start_time": "2022-08-04T22:38:47.932356Z"
    }
   },
   "outputs": [],
   "source": [
    "def unique(List):\n",
    "    return list(set(List))\n",
    "\n",
    "l = unique([1, 2, 1, 5, 6, 5, 2, 7])\n",
    "# print(l)\n",
    "# print(type(l))"
   ]
  },
  {
   "cell_type": "markdown",
   "id": "455ed01b",
   "metadata": {},
   "source": [
    "10. Write a Python program to create a lambda function that adds 15 to a given number passed in as an argument, also create a lambda function that multiplies argument x with argument y and print the result. Bonus."
   ]
  },
  {
   "cell_type": "code",
   "execution_count": 10,
   "id": "1e71ae2b",
   "metadata": {
    "ExecuteTime": {
     "end_time": "2022-08-04T22:38:47.941367Z",
     "start_time": "2022-08-04T22:38:47.937961Z"
    }
   },
   "outputs": [],
   "source": [
    "fun1 = lambda n : n + 15\n",
    "fun2 = lambda x, y: x * y\n",
    "\n",
    "# print(fun1(10))\n",
    "# print(fun2(5, 6))"
   ]
  }
 ],
 "metadata": {
  "kernelspec": {
   "display_name": "Python 3 (ipykernel)",
   "language": "python",
   "name": "python3"
  },
  "language_info": {
   "codemirror_mode": {
    "name": "ipython",
    "version": 3
   },
   "file_extension": ".py",
   "mimetype": "text/x-python",
   "name": "python",
   "nbconvert_exporter": "python",
   "pygments_lexer": "ipython3",
   "version": "3.9.12"
  }
 },
 "nbformat": 4,
 "nbformat_minor": 5
}
