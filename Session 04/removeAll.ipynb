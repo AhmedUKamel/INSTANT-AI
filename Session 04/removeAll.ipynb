{
 "cells": [
  {
   "cell_type": "code",
   "execution_count": 1,
   "id": "319ed436",
   "metadata": {
    "ExecuteTime": {
     "end_time": "2022-08-03T17:38:14.851404Z",
     "start_time": "2022-08-03T17:38:14.836996Z"
    }
   },
   "outputs": [
    {
     "data": {
      "text/plain": [
       "['Ahmed', 'Hatem', 'Mohammed', 'Ahmed', 'Ali', 'Ahmed', 'Karem']"
      ]
     },
     "execution_count": 1,
     "metadata": {},
     "output_type": "execute_result"
    }
   ],
   "source": [
    "my_list = [\"Ahmed\", \"Hatem\", \"Mohammed\", \"Ahmed\", \"Ali\", \"Ahmed\", \"Karem\"]\n",
    "my_list"
   ]
  },
  {
   "cell_type": "code",
   "execution_count": 2,
   "id": "9d486996",
   "metadata": {
    "ExecuteTime": {
     "end_time": "2022-08-03T17:38:14.901429Z",
     "start_time": "2022-08-03T17:38:14.853784Z"
    }
   },
   "outputs": [],
   "source": [
    "# Solution 1 using checking each value\n",
    "def removeAll(List, Value):\n",
    "    for element in List:\n",
    "        if element == Value:\n",
    "            List.remove(Value)\n",
    "    return List"
   ]
  },
  {
   "cell_type": "code",
   "execution_count": 3,
   "id": "2c1c5c48",
   "metadata": {
    "ExecuteTime": {
     "end_time": "2022-08-03T17:38:14.906862Z",
     "start_time": "2022-08-03T17:38:14.903615Z"
    }
   },
   "outputs": [
    {
     "data": {
      "text/plain": [
       "['Hatem', 'Mohammed', 'Ali', 'Karem']"
      ]
     },
     "execution_count": 3,
     "metadata": {},
     "output_type": "execute_result"
    }
   ],
   "source": [
    "removeAll(my_list, \"Ahmed\")"
   ]
  },
  {
   "cell_type": "code",
   "execution_count": 4,
   "id": "c811add6",
   "metadata": {
    "ExecuteTime": {
     "end_time": "2022-08-03T17:38:14.910508Z",
     "start_time": "2022-08-03T17:38:14.908651Z"
    }
   },
   "outputs": [],
   "source": [
    "# Solution 2 using counting value occurrence\n",
    "def removeAll(List, Value):\n",
    "    for time in range(List.count(Value)):\n",
    "        List.remove(Value)\n",
    "    return List"
   ]
  },
  {
   "cell_type": "code",
   "execution_count": 5,
   "id": "26f632fd",
   "metadata": {
    "ExecuteTime": {
     "end_time": "2022-08-03T17:38:14.914582Z",
     "start_time": "2022-08-03T17:38:14.911438Z"
    }
   },
   "outputs": [
    {
     "data": {
      "text/plain": [
       "['Hatem', 'Mohammed', 'Ali', 'Karem']"
      ]
     },
     "execution_count": 5,
     "metadata": {},
     "output_type": "execute_result"
    }
   ],
   "source": [
    "removeAll(my_list, \"Ahmed\")"
   ]
  },
  {
   "cell_type": "code",
   "execution_count": 6,
   "id": "f11ce1b4",
   "metadata": {
    "ExecuteTime": {
     "end_time": "2022-08-03T17:38:14.961721Z",
     "start_time": "2022-08-03T17:38:14.916287Z"
    }
   },
   "outputs": [],
   "source": [
    "# Solution 3 using lambda expression\n",
    "def removeAll(List, Value):\n",
    "    return list(filter(lambda a: a != Value, List))"
   ]
  },
  {
   "cell_type": "code",
   "execution_count": 7,
   "id": "8fe98413",
   "metadata": {
    "ExecuteTime": {
     "end_time": "2022-08-03T17:38:14.966626Z",
     "start_time": "2022-08-03T17:38:14.962890Z"
    }
   },
   "outputs": [
    {
     "data": {
      "text/plain": [
       "['Hatem', 'Mohammed', 'Ali', 'Karem']"
      ]
     },
     "execution_count": 7,
     "metadata": {},
     "output_type": "execute_result"
    }
   ],
   "source": [
    "removeAll(my_list, \"Ahmed\")"
   ]
  }
 ],
 "metadata": {
  "kernelspec": {
   "display_name": "Python 3 (ipykernel)",
   "language": "python",
   "name": "python3"
  },
  "language_info": {
   "codemirror_mode": {
    "name": "ipython",
    "version": 3
   },
   "file_extension": ".py",
   "mimetype": "text/x-python",
   "name": "python",
   "nbconvert_exporter": "python",
   "pygments_lexer": "ipython3",
   "version": "3.9.12"
  }
 },
 "nbformat": 4,
 "nbformat_minor": 5
}
