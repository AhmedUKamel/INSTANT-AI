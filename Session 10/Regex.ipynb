{
 "cells": [
  {
   "cell_type": "markdown",
   "id": "af1e8f62",
   "metadata": {},
   "source": [
    "**Read file**"
   ]
  },
  {
   "cell_type": "code",
   "execution_count": null,
   "id": "14db053c",
   "metadata": {
    "ExecuteTime": {
     "end_time": "2022-08-29T17:29:47.973385Z",
     "start_time": "2022-08-29T17:29:47.959880Z"
    }
   },
   "outputs": [],
   "source": [
    "with open('data.txt','r') as file:\n",
    "    data = file.read().replace('\\n','')"
   ]
  },
  {
   "cell_type": "code",
   "execution_count": null,
   "id": "0eb1d45e",
   "metadata": {
    "ExecuteTime": {
     "end_time": "2022-08-29T17:29:47.994484Z",
     "start_time": "2022-08-29T17:29:47.977213Z"
    }
   },
   "outputs": [],
   "source": [
    "data"
   ]
  },
  {
   "cell_type": "markdown",
   "id": "b4dc4e84",
   "metadata": {},
   "source": [
    "**Import module**"
   ]
  },
  {
   "cell_type": "code",
   "execution_count": null,
   "id": "2f841822",
   "metadata": {
    "ExecuteTime": {
     "end_time": "2022-08-29T17:29:48.001592Z",
     "start_time": "2022-08-29T17:29:47.997295Z"
    }
   },
   "outputs": [],
   "source": [
    "import re"
   ]
  },
  {
   "cell_type": "markdown",
   "id": "8ce1652e",
   "metadata": {},
   "source": [
    "**Extract names**"
   ]
  },
  {
   "cell_type": "code",
   "execution_count": null,
   "id": "2fff43ef",
   "metadata": {
    "ExecuteTime": {
     "end_time": "2022-08-29T17:29:48.012450Z",
     "start_time": "2022-08-29T17:29:48.006072Z"
    }
   },
   "outputs": [],
   "source": [
    "names_pattern_string = r'[A-Z]?[a-z]+\\s[A-Z]?[a-z]+\\s?[A-Z]?[a-z]+'\n",
    "names_pattern_object = re.compile(names_pattern_string)\n",
    "names_matches = names_pattern_object.finditer(data)\n",
    "names = [data[match.span()[0]:match.span()[1]] for match in names_matches]"
   ]
  },
  {
   "cell_type": "code",
   "execution_count": null,
   "id": "042af25a",
   "metadata": {
    "ExecuteTime": {
     "end_time": "2022-08-29T17:29:48.022448Z",
     "start_time": "2022-08-29T17:29:48.015319Z"
    }
   },
   "outputs": [],
   "source": [
    "names"
   ]
  },
  {
   "cell_type": "markdown",
   "id": "1c545c7a",
   "metadata": {},
   "source": [
    "**Extract phone numbers**"
   ]
  },
  {
   "cell_type": "code",
   "execution_count": null,
   "id": "99a5307e",
   "metadata": {
    "ExecuteTime": {
     "end_time": "2022-08-29T17:29:48.032040Z",
     "start_time": "2022-08-29T17:29:48.025169Z"
    }
   },
   "outputs": [],
   "source": [
    "phones_pattern_string = r'(\\+2)?0(\\s|-|\\.)?\\d{3}(\\s|-|\\.)?\\d{3}(\\s|-|\\.)?\\d{4}'\n",
    "phones_pattern_object = re.compile(phones_pattern_string)\n",
    "phones_matches = phones_pattern_object.finditer(data)\n",
    "phones = [data[match.span()[0]:match.span()[1]] for match in phones_matches]"
   ]
  },
  {
   "cell_type": "code",
   "execution_count": null,
   "id": "1859a79d",
   "metadata": {
    "ExecuteTime": {
     "end_time": "2022-08-29T17:29:48.042673Z",
     "start_time": "2022-08-29T17:29:48.035296Z"
    }
   },
   "outputs": [],
   "source": [
    "phones"
   ]
  },
  {
   "cell_type": "markdown",
   "id": "0c3ba71c",
   "metadata": {},
   "source": [
    "**Extract Emails**"
   ]
  },
  {
   "cell_type": "code",
   "execution_count": null,
   "id": "b6616a30",
   "metadata": {
    "ExecuteTime": {
     "end_time": "2022-08-29T17:29:48.051463Z",
     "start_time": "2022-08-29T17:29:48.045465Z"
    }
   },
   "outputs": [],
   "source": [
    "emails_pattern_string = r'[a-zA-Z1-9]+@[a-zA-Z]+\\.(com|net)'\n",
    "emails_pattern_object = re.compile(emails_pattern_string)\n",
    "emails_matches = emails_pattern_object.finditer(data)\n",
    "emails = [data[match.span()[0]:match.span()[1]] for match in emails_matches]"
   ]
  },
  {
   "cell_type": "code",
   "execution_count": null,
   "id": "fb48a078",
   "metadata": {
    "ExecuteTime": {
     "end_time": "2022-08-29T17:29:48.061842Z",
     "start_time": "2022-08-29T17:29:48.056105Z"
    }
   },
   "outputs": [],
   "source": [
    "emails"
   ]
  }
 ],
 "metadata": {
  "kernelspec": {
   "display_name": "Python 3 (ipykernel)",
   "language": "python",
   "name": "python3"
  },
  "language_info": {
   "codemirror_mode": {
    "name": "ipython",
    "version": 3
   },
   "file_extension": ".py",
   "mimetype": "text/x-python",
   "name": "python",
   "nbconvert_exporter": "python",
   "pygments_lexer": "ipython3",
   "version": "3.9.12"
  }
 },
 "nbformat": 4,
 "nbformat_minor": 5
}
