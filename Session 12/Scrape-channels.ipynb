{
 "cells": [
  {
   "cell_type": "markdown",
   "id": "771f9aa2",
   "metadata": {},
   "source": [
    "## Load HTML code in file manually\n",
    "\n",
    "**1. Open [Subscriptions](https://www.youtube.com/feed/channels)** <br />\n",
    "**2. Inspect page `SHIFT + CTRL + C`** <br />\n",
    "**3. Right click on HTML open-tag `<html>`** <br />\n",
    "**4. Select copy > Outer HTML** <br />\n",
    "**5. Paste on new file `channels.html`** <br />"
   ]
  },
  {
   "cell_type": "markdown",
   "id": "d5e376f0",
   "metadata": {},
   "source": [
    "## Import modules"
   ]
  },
  {
   "cell_type": "code",
   "execution_count": null,
   "id": "980d49c8",
   "metadata": {
    "ExecuteTime": {
     "end_time": "2022-09-26T22:23:18.752787Z",
     "start_time": "2022-09-26T22:23:18.331383Z"
    }
   },
   "outputs": [],
   "source": [
    "import csv\n",
    "import pandas as pd\n",
    "from bs4 import BeautifulSoup"
   ]
  },
  {
   "cell_type": "markdown",
   "id": "8a0ac38b",
   "metadata": {},
   "source": [
    "## Scrape data from file\n",
    "> NOTE: IN CASE IF `IOPub data rate exceeded`, SEE [SOLUTION](https://stackoverflow.com/questions/43288550/iopub-data-rate-exceeded-in-jupyter-notebook-when-viewing-image)"
   ]
  },
  {
   "cell_type": "code",
   "execution_count": null,
   "id": "7f071f42",
   "metadata": {
    "ExecuteTime": {
     "end_time": "2022-09-26T22:23:19.930807Z",
     "start_time": "2022-09-26T22:23:18.755523Z"
    }
   },
   "outputs": [],
   "source": [
    "file = open(file='channels.html',mode='r',encoding='UTF-8')\n",
    "src = BeautifulSoup(file,'html.parser')\n",
    "channels = src.find_all('a',{'id':'main-link'})\n",
    "names,links = ['Name'],['Link']\n",
    "\n",
    "for channel in channels:\n",
    "    names.append(channel.find('yt-formatted-string').text)\n",
    "    links.append('https://www.youtube.com/' + channel['href'])"
   ]
  },
  {
   "cell_type": "markdown",
   "id": "1b3aa855",
   "metadata": {},
   "source": [
    "## Write data in csv file"
   ]
  },
  {
   "cell_type": "code",
   "execution_count": null,
   "id": "0a1ebc4c",
   "metadata": {
    "ExecuteTime": {
     "end_time": "2022-09-26T22:23:19.937263Z",
     "start_time": "2022-09-26T22:23:19.932540Z"
    }
   },
   "outputs": [],
   "source": [
    "with open('channels.csv',mode='w',encoding='UTF-8',newline='') as file:\n",
    "    writer = csv.writer(file)\n",
    "    for line_no in range(len(names)):\n",
    "        writer.writerow([names[line_no],links[line_no]])"
   ]
  },
  {
   "cell_type": "markdown",
   "id": "26373565",
   "metadata": {},
   "source": [
    "## Read data in Data Frame"
   ]
  },
  {
   "cell_type": "code",
   "execution_count": null,
   "id": "1bc642a1",
   "metadata": {
    "ExecuteTime": {
     "end_time": "2022-09-26T22:23:19.960311Z",
     "start_time": "2022-09-26T22:23:19.940062Z"
    }
   },
   "outputs": [],
   "source": [
    "dataFrame = pd.read_csv('channels.csv')\n",
    "dataFrame"
   ]
  }
 ],
 "metadata": {
  "kernelspec": {
   "display_name": "Python 3 (ipykernel)",
   "language": "python",
   "name": "python3"
  },
  "language_info": {
   "codemirror_mode": {
    "name": "ipython",
    "version": 3
   },
   "file_extension": ".py",
   "mimetype": "text/x-python",
   "name": "python",
   "nbconvert_exporter": "python",
   "pygments_lexer": "ipython3",
   "version": "3.9.13"
  }
 },
 "nbformat": 4,
 "nbformat_minor": 5
}
