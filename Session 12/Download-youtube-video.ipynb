{
 "cells": [
  {
   "cell_type": "markdown",
   "id": "486b81b8",
   "metadata": {},
   "source": [
    "### Import module"
   ]
  },
  {
   "cell_type": "code",
   "execution_count": null,
   "id": "9305c1ab",
   "metadata": {
    "ExecuteTime": {
     "end_time": "2022-09-05T23:22:22.349387Z",
     "start_time": "2022-09-05T23:22:22.326217Z"
    }
   },
   "outputs": [],
   "source": [
    "from pytube import YouTube"
   ]
  },
  {
   "cell_type": "markdown",
   "id": "328c4510",
   "metadata": {},
   "source": [
    "### Define video info"
   ]
  },
  {
   "cell_type": "code",
   "execution_count": null,
   "id": "8341f2a2",
   "metadata": {
    "ExecuteTime": {
     "end_time": "2022-09-05T23:22:22.357759Z",
     "start_time": "2022-09-05T23:22:22.353790Z"
    }
   },
   "outputs": [],
   "source": [
    "video_url = 'https://youtu.be/WsLrpCPGu-Q'\n",
    "video_name = ''     # Optional\n",
    "download_path = ''  # Optional"
   ]
  },
  {
   "cell_type": "markdown",
   "id": "ddabe289",
   "metadata": {},
   "source": [
    "### Get video source and stream"
   ]
  },
  {
   "cell_type": "code",
   "execution_count": null,
   "id": "9eea9949",
   "metadata": {
    "ExecuteTime": {
     "end_time": "2022-09-05T23:22:28.816867Z",
     "start_time": "2022-09-05T23:22:22.359492Z"
    }
   },
   "outputs": [],
   "source": [
    "src = YouTube(video_url)\n",
    "# Select resolution\n",
    "stream = src.streams.filter(res='720p')\n",
    "# Or get the highest available resolution\n",
    "stream = src.streams.get_highest_resolution()"
   ]
  },
  {
   "cell_type": "markdown",
   "id": "9a3fe803",
   "metadata": {},
   "source": [
    "### Download selected stream"
   ]
  },
  {
   "cell_type": "code",
   "execution_count": null,
   "id": "be816859",
   "metadata": {
    "ExecuteTime": {
     "end_time": "2022-09-05T23:22:33.718204Z",
     "start_time": "2022-09-05T23:22:28.818516Z"
    }
   },
   "outputs": [],
   "source": [
    "# Select path or download in current one\n",
    "stream.download(output_path=download_path)\n",
    "stream.download()\n",
    "# Select video name or download default name used on YouTube\n",
    "stream.download(filename=video_name)\n",
    "stream.download()"
   ]
  }
 ],
 "metadata": {
  "kernelspec": {
   "display_name": "Python 3 (ipykernel)",
   "language": "python",
   "name": "python3"
  },
  "language_info": {
   "codemirror_mode": {
    "name": "ipython",
    "version": 3
   },
   "file_extension": ".py",
   "mimetype": "text/x-python",
   "name": "python",
   "nbconvert_exporter": "python",
   "pygments_lexer": "ipython3",
   "version": "3.9.12"
  }
 },
 "nbformat": 4,
 "nbformat_minor": 5
}
