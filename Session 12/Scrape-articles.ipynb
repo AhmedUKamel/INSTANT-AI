{
 "cells": [
  {
   "cell_type": "markdown",
   "id": "d5994d3d",
   "metadata": {},
   "source": [
    "### Import modules"
   ]
  },
  {
   "cell_type": "code",
   "execution_count": null,
   "id": "cc9882b9",
   "metadata": {
    "ExecuteTime": {
     "end_time": "2022-09-04T19:50:08.136484Z",
     "start_time": "2022-09-04T19:50:07.703764Z"
    }
   },
   "outputs": [],
   "source": [
    "import csv\n",
    "import requests\n",
    "import pandas as pd\n",
    "from bs4 import BeautifulSoup"
   ]
  },
  {
   "cell_type": "markdown",
   "id": "444b839d",
   "metadata": {},
   "source": [
    "### Global variables"
   ]
  },
  {
   "cell_type": "code",
   "execution_count": null,
   "id": "0a2d699e",
   "metadata": {
    "ExecuteTime": {
     "end_time": "2022-09-04T19:50:08.142616Z",
     "start_time": "2022-09-04T19:50:08.138956Z"
    }
   },
   "outputs": [],
   "source": [
    "website_url = 'https://coreyms.com'\n",
    "number_of_pages = 17\n",
    "common_video_url = 'https://www.youtube.com/watch?v='\n",
    "descriptions,sources,videos_src = ['Article  Description'],['Article Link'],['Video Link']"
   ]
  },
  {
   "cell_type": "markdown",
   "id": "bc2576a0",
   "metadata": {},
   "source": [
    "### Scraping function"
   ]
  },
  {
   "cell_type": "code",
   "execution_count": null,
   "id": "d0eed424",
   "metadata": {
    "ExecuteTime": {
     "end_time": "2022-09-04T19:50:08.153493Z",
     "start_time": "2022-09-04T19:50:08.148465Z"
    }
   },
   "outputs": [],
   "source": [
    "def getArticles(url):\n",
    "    src = requests.get(url)\n",
    "    beautified = BeautifulSoup(src.text,'lxml')\n",
    "    descriptions,sources,videos_src = list(),list(),list()\n",
    "    for article in beautified.find_all('article'):\n",
    "        descriptions.append(article.a.text)\n",
    "        sources.append(article.a['href'])\n",
    "        try:\n",
    "            video_id = article.iframe['src'].split('/')[-1].split('?')[0]\n",
    "            videos_src.append(common_video_url + video_id)\n",
    "        except:\n",
    "            videos_src.append('N/A')\n",
    "    return descriptions,sources,videos_src"
   ]
  },
  {
   "cell_type": "markdown",
   "id": "b3b35506",
   "metadata": {},
   "source": [
    "### Scraping website all pages"
   ]
  },
  {
   "cell_type": "code",
   "execution_count": null,
   "id": "8d7fdf46",
   "metadata": {
    "ExecuteTime": {
     "end_time": "2022-09-04T19:50:35.522860Z",
     "start_time": "2022-09-04T19:50:08.156564Z"
    }
   },
   "outputs": [],
   "source": [
    "for page_no in range(1,number_of_pages + 1):\n",
    "    if page_no == 1:\n",
    "        url = website_url\n",
    "        print(f'Scraping page {page_no}',end='')\n",
    "    else: \n",
    "        url = website_url + '/page/' + str(page_no)\n",
    "        print(f'/{page_no}',end='')\n",
    "    # Optional\n",
    "    \n",
    "    a,b,c = getArticles(url)\n",
    "    descriptions.extend(a)\n",
    "    sources.extend(b)\n",
    "    videos_src.extend(c)\n",
    "    # Optional\n",
    "    if page_no == number_of_pages:\n",
    "        print(f'\\n{len(descriptions)} articles has been scraped successfully')"
   ]
  },
  {
   "cell_type": "markdown",
   "id": "8895aef5",
   "metadata": {},
   "source": [
    "### Write data in csv file"
   ]
  },
  {
   "cell_type": "code",
   "execution_count": null,
   "id": "44acfac6",
   "metadata": {
    "ExecuteTime": {
     "end_time": "2022-09-04T19:50:35.536098Z",
     "start_time": "2022-09-04T19:50:35.526216Z"
    }
   },
   "outputs": [],
   "source": [
    "with open('articles.csv',mode='w',encoding='UTF-8',newline='') as file:\n",
    "    writer = csv.writer(file)\n",
    "    for line_no in range(len(descriptions)):\n",
    "        writer.writerow([descriptions[line_no],sources[line_no],videos_src[line_no]])"
   ]
  },
  {
   "cell_type": "markdown",
   "id": "14444051",
   "metadata": {},
   "source": [
    "### Read data in Data Frame"
   ]
  },
  {
   "cell_type": "code",
   "execution_count": null,
   "id": "ba1a4f5e",
   "metadata": {
    "ExecuteTime": {
     "end_time": "2022-09-04T19:50:35.575723Z",
     "start_time": "2022-09-04T19:50:35.540515Z"
    }
   },
   "outputs": [],
   "source": [
    "dataFrame = pd.read_csv('articles.csv')\n",
    "dataFrame"
   ]
  }
 ],
 "metadata": {
  "kernelspec": {
   "display_name": "Python 3 (ipykernel)",
   "language": "python",
   "name": "python3"
  },
  "language_info": {
   "codemirror_mode": {
    "name": "ipython",
    "version": 3
   },
   "file_extension": ".py",
   "mimetype": "text/x-python",
   "name": "python",
   "nbconvert_exporter": "python",
   "pygments_lexer": "ipython3",
   "version": "3.9.12"
  }
 },
 "nbformat": 4,
 "nbformat_minor": 5
}
