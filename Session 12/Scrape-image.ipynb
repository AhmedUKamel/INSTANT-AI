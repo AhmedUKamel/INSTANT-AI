{
 "cells": [
  {
   "cell_type": "markdown",
   "id": "c2f4a4c3",
   "metadata": {},
   "source": [
    "### Import modules"
   ]
  },
  {
   "cell_type": "code",
   "execution_count": null,
   "id": "2bef9bc2",
   "metadata": {
    "ExecuteTime": {
     "end_time": "2022-09-04T20:49:12.552309Z",
     "start_time": "2022-09-04T20:49:12.298454Z"
    }
   },
   "outputs": [],
   "source": [
    "import requests\n",
    "from bs4 import BeautifulSoup"
   ]
  },
  {
   "cell_type": "markdown",
   "id": "edd86286",
   "metadata": {},
   "source": [
    "### Function returns images source"
   ]
  },
  {
   "cell_type": "code",
   "execution_count": null,
   "id": "8fee2e85",
   "metadata": {
    "ExecuteTime": {
     "end_time": "2022-09-04T20:49:12.559495Z",
     "start_time": "2022-09-04T20:49:12.554767Z"
    }
   },
   "outputs": [],
   "source": [
    "def getImages(url):\n",
    "    src = requests.get(url)\n",
    "    beautified = BeautifulSoup(src.text,'lxml')\n",
    "    images = beautified.find_all('img')\n",
    "    links = []\n",
    "    for image in images:\n",
    "        links.append(image['src'])\n",
    "    return links"
   ]
  },
  {
   "cell_type": "markdown",
   "id": "7fcbb9b1",
   "metadata": {},
   "source": [
    "### List images source"
   ]
  },
  {
   "cell_type": "code",
   "execution_count": null,
   "id": "fd0b113f",
   "metadata": {
    "ExecuteTime": {
     "end_time": "2022-09-04T20:49:14.446600Z",
     "start_time": "2022-09-04T20:49:12.561946Z"
    }
   },
   "outputs": [],
   "source": [
    "website_url = 'https://www.health.harvard.edu/blog'\n",
    "images_src = getImages(website_url)\n",
    "images_src"
   ]
  }
 ],
 "metadata": {
  "kernelspec": {
   "display_name": "Python 3 (ipykernel)",
   "language": "python",
   "name": "python3"
  },
  "language_info": {
   "codemirror_mode": {
    "name": "ipython",
    "version": 3
   },
   "file_extension": ".py",
   "mimetype": "text/x-python",
   "name": "python",
   "nbconvert_exporter": "python",
   "pygments_lexer": "ipython3",
   "version": "3.9.12"
  }
 },
 "nbformat": 4,
 "nbformat_minor": 5
}
