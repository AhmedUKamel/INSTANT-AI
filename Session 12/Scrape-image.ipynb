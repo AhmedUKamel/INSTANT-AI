{
 "cells": [
  {
   "cell_type": "markdown",
   "id": "c2f4a4c3",
   "metadata": {},
   "source": [
    "### Import modules"
   ]
  },
  {
   "cell_type": "code",
   "execution_count": null,
   "id": "2bef9bc2",
   "metadata": {
    "ExecuteTime": {
     "end_time": "2022-09-06T10:27:50.991894Z",
     "start_time": "2022-09-06T10:27:50.832457Z"
    }
   },
   "outputs": [],
   "source": [
    "import re\n",
    "import requests\n",
    "import urllib.request\n",
    "from bs4 import BeautifulSoup"
   ]
  },
  {
   "cell_type": "markdown",
   "id": "58fb0133",
   "metadata": {},
   "source": [
    "### Function check link validation"
   ]
  },
  {
   "cell_type": "code",
   "execution_count": null,
   "id": "2219a052",
   "metadata": {
    "ExecuteTime": {
     "end_time": "2022-09-06T10:27:50.996335Z",
     "start_time": "2022-09-06T10:27:50.993755Z"
    }
   },
   "outputs": [],
   "source": [
    "isLink = lambda url : re.compile('http.+').match(url) != None"
   ]
  },
  {
   "cell_type": "markdown",
   "id": "edd86286",
   "metadata": {},
   "source": [
    "### Function returns images source"
   ]
  },
  {
   "cell_type": "code",
   "execution_count": null,
   "id": "8fee2e85",
   "metadata": {
    "ExecuteTime": {
     "end_time": "2022-09-06T10:27:51.004179Z",
     "start_time": "2022-09-06T10:27:50.997603Z"
    }
   },
   "outputs": [],
   "source": [
    "def getImages(url):\n",
    "    src = requests.get(url)\n",
    "    beautified = BeautifulSoup(src.text,'lxml')\n",
    "    images = beautified.find_all('img')\n",
    "    links = [image['src'] for image in images]\n",
    "    return links"
   ]
  },
  {
   "cell_type": "markdown",
   "id": "7fcbb9b1",
   "metadata": {},
   "source": [
    "### Get images source"
   ]
  },
  {
   "cell_type": "code",
   "execution_count": null,
   "id": "fd0b113f",
   "metadata": {
    "ExecuteTime": {
     "end_time": "2022-09-06T10:27:53.075782Z",
     "start_time": "2022-09-06T10:27:51.005897Z"
    }
   },
   "outputs": [],
   "source": [
    "website_url = 'https://www.health.harvard.edu/blog'\n",
    "images_src = getImages(website_url)"
   ]
  },
  {
   "cell_type": "markdown",
   "id": "9a2246e6",
   "metadata": {},
   "source": [
    "### Check links validation"
   ]
  },
  {
   "cell_type": "code",
   "execution_count": null,
   "id": "598006b1",
   "metadata": {
    "ExecuteTime": {
     "end_time": "2022-09-06T10:27:53.080410Z",
     "start_time": "2022-09-06T10:27:53.077112Z"
    }
   },
   "outputs": [],
   "source": [
    "images_src = list(filter(isLink,images_src))"
   ]
  },
  {
   "cell_type": "markdown",
   "id": "fecb6029",
   "metadata": {},
   "source": [
    "### Download images in images directory"
   ]
  },
  {
   "cell_type": "code",
   "execution_count": null,
   "id": "0249ad10",
   "metadata": {
    "ExecuteTime": {
     "end_time": "2022-09-06T10:30:10.061709Z",
     "start_time": "2022-09-06T10:29:50.842257Z"
    }
   },
   "outputs": [],
   "source": [
    "for src_no in range(len(images_src)):\n",
    "    urllib.request.urlretrieve(images_src[src_no],f'images/image {str(src_no + 1).zfill(2)}.jpg')"
   ]
  }
 ],
 "metadata": {
  "kernelspec": {
   "display_name": "Python 3 (ipykernel)",
   "language": "python",
   "name": "python3"
  },
  "language_info": {
   "codemirror_mode": {
    "name": "ipython",
    "version": 3
   },
   "file_extension": ".py",
   "mimetype": "text/x-python",
   "name": "python",
   "nbconvert_exporter": "python",
   "pygments_lexer": "ipython3",
   "version": "3.9.12"
  }
 },
 "nbformat": 4,
 "nbformat_minor": 5
}
