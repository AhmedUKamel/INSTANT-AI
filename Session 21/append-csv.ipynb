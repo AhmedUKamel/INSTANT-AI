{
 "cells": [
  {
   "cell_type": "code",
   "execution_count": null,
   "id": "962928b5",
   "metadata": {
    "ExecuteTime": {
     "end_time": "2022-10-16T22:15:51.133422Z",
     "start_time": "2022-10-16T22:15:50.807325Z"
    }
   },
   "outputs": [],
   "source": [
    "import pandas as pd\n",
    "from csv import writer"
   ]
  },
  {
   "cell_type": "code",
   "execution_count": null,
   "id": "767e2b60",
   "metadata": {
    "ExecuteTime": {
     "end_time": "2022-10-16T22:15:51.140556Z",
     "start_time": "2022-10-16T22:15:51.136118Z"
    }
   },
   "outputs": [],
   "source": [
    "df = pd.DataFrame (\n",
    "    data = {\n",
    "        'Name'   : ['Ahmed','Mohammed','Ali','Yasser','Amira'],\n",
    "        'Age'    : [20,21,22,23,24],\n",
    "        'Gender' : ['M','M','M','M','F']\n",
    "    }\n",
    ")"
   ]
  },
  {
   "cell_type": "code",
   "execution_count": null,
   "id": "dee927b7",
   "metadata": {
    "ExecuteTime": {
     "end_time": "2022-10-16T22:15:51.159599Z",
     "start_time": "2022-10-16T22:15:51.143196Z"
    }
   },
   "outputs": [],
   "source": [
    "df"
   ]
  },
  {
   "cell_type": "code",
   "execution_count": null,
   "id": "65b9ffa4",
   "metadata": {
    "ExecuteTime": {
     "end_time": "2022-10-16T22:15:51.204733Z",
     "start_time": "2022-10-16T22:15:51.161959Z"
    }
   },
   "outputs": [],
   "source": [
    "df.to_csv (\n",
    "    path_or_buf = 'data.csv',\n",
    "    index = False\n",
    ")"
   ]
  },
  {
   "cell_type": "code",
   "execution_count": null,
   "id": "5701a7d9",
   "metadata": {
    "ExecuteTime": {
     "end_time": "2022-10-16T22:15:51.211867Z",
     "start_time": "2022-10-16T22:15:51.207036Z"
    }
   },
   "outputs": [],
   "source": [
    "new_df = pd.DataFrame (\n",
    "    data = {\n",
    "        'Name'   : ['Added01','Added02','Added03'],\n",
    "        'Age'    : [10,11,12],\n",
    "        'Gender' : ['M','F','F']\n",
    "    }\n",
    ")"
   ]
  },
  {
   "cell_type": "code",
   "execution_count": null,
   "id": "139276c1",
   "metadata": {
    "ExecuteTime": {
     "end_time": "2022-10-16T22:15:51.223417Z",
     "start_time": "2022-10-16T22:15:51.214486Z"
    },
    "scrolled": true
   },
   "outputs": [],
   "source": [
    "new_df"
   ]
  },
  {
   "cell_type": "code",
   "execution_count": null,
   "id": "9f30cb81",
   "metadata": {
    "ExecuteTime": {
     "end_time": "2022-10-16T22:15:51.230511Z",
     "start_time": "2022-10-16T22:15:51.225640Z"
    }
   },
   "outputs": [],
   "source": [
    "def append_csv(path,df):\n",
    "    with open (\n",
    "        file = path,\n",
    "        mode = 'a'\n",
    "    ) as file:\n",
    "        csv_writer = writer(file)\n",
    "\n",
    "        for index in range(len(df)):\n",
    "            csv_writer.writerow(df.iloc[index])\n",
    "\n",
    "        file.close()"
   ]
  },
  {
   "cell_type": "code",
   "execution_count": null,
   "id": "a31c6e41",
   "metadata": {
    "ExecuteTime": {
     "end_time": "2022-10-16T22:15:51.286452Z",
     "start_time": "2022-10-16T22:15:51.232583Z"
    }
   },
   "outputs": [],
   "source": [
    "append_csv('data.csv',new_df)"
   ]
  },
  {
   "cell_type": "code",
   "execution_count": null,
   "id": "d6dd9d56",
   "metadata": {
    "ExecuteTime": {
     "end_time": "2022-10-16T22:15:51.294816Z",
     "start_time": "2022-10-16T22:15:51.289003Z"
    }
   },
   "outputs": [],
   "source": [
    "total_df = pd.read_csv (\n",
    "    filepath_or_buffer = 'data.csv'\n",
    ")"
   ]
  },
  {
   "cell_type": "code",
   "execution_count": null,
   "id": "56efe117",
   "metadata": {
    "ExecuteTime": {
     "end_time": "2022-10-16T22:15:51.304602Z",
     "start_time": "2022-10-16T22:15:51.297853Z"
    }
   },
   "outputs": [],
   "source": [
    "total_df"
   ]
  }
 ],
 "metadata": {
  "kernelspec": {
   "display_name": "Python 3 (ipykernel)",
   "language": "python",
   "name": "python3"
  },
  "language_info": {
   "codemirror_mode": {
    "name": "ipython",
    "version": 3
   },
   "file_extension": ".py",
   "mimetype": "text/x-python",
   "name": "python",
   "nbconvert_exporter": "python",
   "pygments_lexer": "ipython3",
   "version": "3.9.13"
  }
 },
 "nbformat": 4,
 "nbformat_minor": 5
}
