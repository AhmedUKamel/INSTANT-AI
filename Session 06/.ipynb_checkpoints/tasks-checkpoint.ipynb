{
 "cells": [
  {
   "cell_type": "markdown",
   "id": "4ddffc57",
   "metadata": {},
   "source": [
    "## Import my own library"
   ]
  },
  {
   "cell_type": "code",
   "execution_count": 1,
   "id": "0e661aaa",
   "metadata": {
    "ExecuteTime": {
     "end_time": "2022-08-10T20:00:49.080119Z",
     "start_time": "2022-08-10T20:00:49.064447Z"
    }
   },
   "outputs": [],
   "source": [
    "import Library as lib"
   ]
  },
  {
   "cell_type": "markdown",
   "id": "c4e1e050",
   "metadata": {},
   "source": [
    "## Sort dictionary by keys"
   ]
  },
  {
   "cell_type": "code",
   "execution_count": 2,
   "id": "b532bfab",
   "metadata": {
    "ExecuteTime": {
     "end_time": "2022-08-10T20:00:49.089651Z",
     "start_time": "2022-08-10T20:00:49.084746Z"
    }
   },
   "outputs": [],
   "source": [
    "ranks = {\"Mohammed\":4,\"Omar\":3.9,\"Ahmed\":5,\"Zain\":4.5,\"Ali\":3}"
   ]
  },
  {
   "cell_type": "code",
   "execution_count": 3,
   "id": "43e63401",
   "metadata": {
    "ExecuteTime": {
     "end_time": "2022-08-10T20:00:49.110326Z",
     "start_time": "2022-08-10T20:00:49.093712Z"
    }
   },
   "outputs": [
    {
     "data": {
      "text/plain": [
       "{'Ahmed': 5, 'Ali': 3, 'Mohammed': 4, 'Omar': 3.9, 'Zain': 4.5}"
      ]
     },
     "execution_count": 3,
     "metadata": {},
     "output_type": "execute_result"
    }
   ],
   "source": [
    "lib.sort_by_keys(ranks)"
   ]
  },
  {
   "cell_type": "markdown",
   "id": "82e29f85",
   "metadata": {},
   "source": [
    "## Stack by user"
   ]
  },
  {
   "cell_type": "code",
   "execution_count": 4,
   "id": "7d0b0015",
   "metadata": {
    "ExecuteTime": {
     "end_time": "2022-08-10T20:00:49.116928Z",
     "start_time": "2022-08-10T20:00:49.113591Z"
    }
   },
   "outputs": [],
   "source": [
    "from queue import LifoQueue as Stack"
   ]
  },
  {
   "cell_type": "code",
   "execution_count": 5,
   "id": "69b75c23",
   "metadata": {
    "ExecuteTime": {
     "end_time": "2022-08-10T20:00:59.072484Z",
     "start_time": "2022-08-10T20:00:49.119843Z"
    }
   },
   "outputs": [
    {
     "name": "stdout",
     "output_type": "stream",
     "text": [
      "Enter non-zero value: 15\n",
      "Enter non-zero value: 10\n",
      "Enter non-zero value: 6\n",
      "Enter non-zero value: 8\n",
      "Enter non-zero value: 2\n",
      "Enter non-zero value: 0\n"
     ]
    }
   ],
   "source": [
    "# you can pass prompts text to user\n",
    "# Like get_stack('Enter value: ')\n",
    "stack = lib.get_stack()"
   ]
  },
  {
   "cell_type": "code",
   "execution_count": 6,
   "id": "0dd6fe07",
   "metadata": {
    "ExecuteTime": {
     "end_time": "2022-08-10T20:00:59.082389Z",
     "start_time": "2022-08-10T20:00:59.075781Z"
    }
   },
   "outputs": [
    {
     "name": "stdout",
     "output_type": "stream",
     "text": [
      "[ 2 8 6 10 15 ]\n"
     ]
    }
   ],
   "source": [
    "lib.display(stack)"
   ]
  }
 ],
 "metadata": {
  "kernelspec": {
   "display_name": "Python 3 (ipykernel)",
   "language": "python",
   "name": "python3"
  },
  "language_info": {
   "codemirror_mode": {
    "name": "ipython",
    "version": 3
   },
   "file_extension": ".py",
   "mimetype": "text/x-python",
   "name": "python",
   "nbconvert_exporter": "python",
   "pygments_lexer": "ipython3",
   "version": "3.9.12"
  }
 },
 "nbformat": 4,
 "nbformat_minor": 5
}
