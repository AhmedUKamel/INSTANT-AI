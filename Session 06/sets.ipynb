{
 "cells": [
  {
   "cell_type": "markdown",
   "id": "917808ff",
   "metadata": {},
   "source": [
    "## Unordered / Multi Sets in Python"
   ]
  },
  {
   "cell_type": "markdown",
   "id": "e6f54b8d",
   "metadata": {
    "ExecuteTime": {
     "end_time": "2022-08-12T03:25:15.684310Z",
     "start_time": "2022-08-12T03:25:15.671185Z"
    }
   },
   "source": [
    "> Please be noted that, the ordered-set is an unsorted-set and vice versa\n",
    "\n",
    "Default set() is `Singly` and `Unordered`"
   ]
  },
  {
   "cell_type": "markdown",
   "id": "50946d77",
   "metadata": {},
   "source": [
    "## Unsorted-set (Ordered) \n",
    "\n",
    "Download the orderedsetmodule\n",
    "\n",
    "**Using cnoda**\n",
    "~~~bash\n",
    "conda install -c conda-forge ordered-set\n",
    "~~~\n",
    "**Using pip**\n",
    "~~~bash\n",
    "pip install ordered-set|\n",
    "~~~"
   ]
  },
  {
   "cell_type": "code",
   "execution_count": null,
   "id": "f76b365c",
   "metadata": {
    "ExecuteTime": {
     "end_time": "2022-08-12T03:40:55.119469Z",
     "start_time": "2022-08-12T03:40:55.115378Z"
    }
   },
   "outputs": [],
   "source": [
    "from orderedset import OrderedSet"
   ]
  },
  {
   "cell_type": "code",
   "execution_count": null,
   "id": "1d15cac8",
   "metadata": {
    "ExecuteTime": {
     "end_time": "2022-08-12T03:41:15.028555Z",
     "start_time": "2022-08-12T03:41:15.022243Z"
    }
   },
   "outputs": [],
   "source": [
    "ordered_set = OrderedSet([10,5,4,2,1,9])"
   ]
  },
  {
   "cell_type": "code",
   "execution_count": null,
   "id": "bab6f48b",
   "metadata": {
    "ExecuteTime": {
     "end_time": "2022-08-12T03:41:24.444137Z",
     "start_time": "2022-08-12T03:41:24.438441Z"
    }
   },
   "outputs": [],
   "source": [
    "ordered_set"
   ]
  },
  {
   "cell_type": "markdown",
   "id": "b5bfeb48",
   "metadata": {},
   "source": [
    "## Multi-set\n",
    "\n",
    "Download the multiset module \n",
    "\n",
    "**Using cnoda**\n",
    "~~~bash\n",
    "conda install -c conda-forge multiset\n",
    "~~~\n",
    "**Using pip**\n",
    "~~~bash\n",
    "pip install multiset\n",
    "~~~"
   ]
  },
  {
   "cell_type": "code",
   "execution_count": null,
   "id": "e1a82aec",
   "metadata": {
    "ExecuteTime": {
     "end_time": "2022-08-12T03:35:49.147758Z",
     "start_time": "2022-08-12T03:35:49.142345Z"
    }
   },
   "outputs": [],
   "source": [
    "from multiset import Multiset"
   ]
  },
  {
   "cell_type": "code",
   "execution_count": null,
   "id": "d349ae08",
   "metadata": {
    "ExecuteTime": {
     "end_time": "2022-08-12T03:36:28.229155Z",
     "start_time": "2022-08-12T03:36:28.223393Z"
    }
   },
   "outputs": [],
   "source": [
    "multi_set = Multiset([1,2,3,1,4,5,2,4,6,1])"
   ]
  },
  {
   "cell_type": "code",
   "execution_count": null,
   "id": "8df64839",
   "metadata": {
    "ExecuteTime": {
     "end_time": "2022-08-12T03:36:32.208106Z",
     "start_time": "2022-08-12T03:36:32.189679Z"
    }
   },
   "outputs": [],
   "source": [
    "# Print each value with its occurrence\n",
    "multi_set"
   ]
  },
  {
   "cell_type": "code",
   "execution_count": null,
   "id": "95254797",
   "metadata": {
    "ExecuteTime": {
     "end_time": "2022-08-12T03:38:18.588325Z",
     "start_time": "2022-08-12T03:38:18.582119Z"
    }
   },
   "outputs": [],
   "source": [
    "# Print the whole set\n",
    "print(multi_set)"
   ]
  }
 ],
 "metadata": {
  "kernelspec": {
   "display_name": "Python 3 (ipykernel)",
   "language": "python",
   "name": "python3"
  },
  "language_info": {
   "codemirror_mode": {
    "name": "ipython",
    "version": 3
   },
   "file_extension": ".py",
   "mimetype": "text/x-python",
   "name": "python",
   "nbconvert_exporter": "python",
   "pygments_lexer": "ipython3",
   "version": "3.9.12"
  }
 },
 "nbformat": 4,
 "nbformat_minor": 5
}
