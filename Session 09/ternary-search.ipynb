{
 "cells": [
  {
   "cell_type": "markdown",
   "id": "82ee2cbf",
   "metadata": {},
   "source": [
    "## Ternary Search\n",
    "**Complexity O (Log3 (N))**"
   ]
  },
  {
   "cell_type": "code",
   "execution_count": null,
   "id": "92ad8551",
   "metadata": {
    "ExecuteTime": {
     "end_time": "2022-08-27T02:03:37.930634Z",
     "start_time": "2022-08-27T02:03:37.923090Z"
    }
   },
   "outputs": [],
   "source": [
    "def ternarySearchRecursion(left,right,target,array):\n",
    "    if left <= right:\n",
    "        middle1 = left  + (right-left) // 3\n",
    "        middle2 = right - (right-left) // 3\n",
    "        \n",
    "        if array[middle1] == target: return middle1\n",
    "        if array[middle2] == target: return middle2\n",
    "        \n",
    "        if array[middle1] > target: return ternarySearch(left,middle1-1,target,array)\n",
    "        elif array[middle2] < target: return  ternarySearch(middle2+1,right,target,array)\n",
    "        else: return ternarySearch(middle1+1,middle2-1,target,array)\n",
    "        \n",
    "    return -1"
   ]
  },
  {
   "cell_type": "code",
   "execution_count": null,
   "id": "2f07b843",
   "metadata": {
    "ExecuteTime": {
     "end_time": "2022-08-27T02:07:09.140220Z",
     "start_time": "2022-08-27T02:07:09.134804Z"
    }
   },
   "outputs": [],
   "source": [
    "def ternarySearchIterative(left,right,target,array):\n",
    "    while left <= right:\n",
    "        middle1 = left  + (right-left) // 3\n",
    "        middle2 = right - (right-left) // 3\n",
    "        \n",
    "        if array[middle1] == target: return middle1\n",
    "        if array[middle2] == target: return middle2\n",
    "        \n",
    "        if array[middle1] > target: right = middle1-1\n",
    "        elif array[middle2] < target: left = middle2+1\n",
    "        else:\n",
    "            left  = middle1+1\n",
    "            right = middle2-1\n",
    "\n",
    "    return -1"
   ]
  },
  {
   "cell_type": "code",
   "execution_count": null,
   "id": "d81fd599",
   "metadata": {
    "ExecuteTime": {
     "end_time": "2022-08-27T02:11:44.324248Z",
     "start_time": "2022-08-27T02:11:44.319958Z"
    }
   },
   "outputs": [],
   "source": [
    "array = [1,8,4,5,15,6,9,3]\n",
    "array.sort()\n",
    "print(f'Array: {array}')"
   ]
  },
  {
   "cell_type": "code",
   "execution_count": null,
   "id": "ba9742c1",
   "metadata": {
    "ExecuteTime": {
     "end_time": "2022-08-27T02:15:58.938942Z",
     "start_time": "2022-08-27T02:15:58.929493Z"
    },
    "scrolled": true
   },
   "outputs": [],
   "source": [
    "print('\\tIterative way\\tRecursion way')\n",
    "for number in range(1,21):\n",
    "    print(f'{number}\\t{ternarySearchIterative(0,len(array)-1,number,array)}\\t\\t{ternarySearchRecursion(0,len(array)-1,number,array)}')"
   ]
  }
 ],
 "metadata": {
  "kernelspec": {
   "display_name": "Python 3 (ipykernel)",
   "language": "python",
   "name": "python3"
  },
  "language_info": {
   "codemirror_mode": {
    "name": "ipython",
    "version": 3
   },
   "file_extension": ".py",
   "mimetype": "text/x-python",
   "name": "python",
   "nbconvert_exporter": "python",
   "pygments_lexer": "ipython3",
   "version": "3.9.12"
  }
 },
 "nbformat": 4,
 "nbformat_minor": 5
}
