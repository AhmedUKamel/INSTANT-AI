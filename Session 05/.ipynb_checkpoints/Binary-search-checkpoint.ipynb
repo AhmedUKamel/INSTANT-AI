{
 "cells": [
  {
   "cell_type": "markdown",
   "id": "71961768",
   "metadata": {},
   "source": [
    "## 1. ITERATIVE"
   ]
  },
  {
   "cell_type": "code",
   "execution_count": 1,
   "id": "3fe88e66",
   "metadata": {
    "ExecuteTime": {
     "end_time": "2022-08-07T20:24:53.397388Z",
     "start_time": "2022-08-07T20:24:53.382559Z"
    }
   },
   "outputs": [],
   "source": [
    "def binarySearchIterative(List, Value):\n",
    "    left, right = 0, len(List)-1\n",
    "    while left <= right:\n",
    "        middle = int((left + right)/2)\n",
    "        if List[middle] == Value: return middle\n",
    "        elif List[middle] > Value: right = middle-1\n",
    "        else: left = middle+1\n",
    "    return -1"
   ]
  },
  {
   "cell_type": "markdown",
   "id": "68fcb22d",
   "metadata": {},
   "source": [
    "## 2.RECURSION"
   ]
  },
  {
   "cell_type": "code",
   "execution_count": 2,
   "id": "54f29809",
   "metadata": {
    "ExecuteTime": {
     "end_time": "2022-08-07T20:24:53.408134Z",
     "start_time": "2022-08-07T20:24:53.401308Z"
    }
   },
   "outputs": [],
   "source": [
    "def binarySearchRecursion(List, Value, Left, Right):\n",
    "    if Left > Right: return -1\n",
    "    middle = int((Left+Right)/2)\n",
    "    if List[middle] == Value: return middle\n",
    "    elif List[middle] > Value: return binarySearchRecursion(List, Value, Left, middle-1)\n",
    "    else: return binarySearchRecursion(List, Value, middle+1, Right)"
   ]
  },
  {
   "cell_type": "markdown",
   "id": "ec8752b2",
   "metadata": {
    "ExecuteTime": {
     "end_time": "2022-08-07T20:19:24.808455Z",
     "start_time": "2022-08-07T20:19:24.804364Z"
    }
   },
   "source": [
    "## Test"
   ]
  },
  {
   "cell_type": "code",
   "execution_count": 3,
   "id": "66c16093",
   "metadata": {
    "ExecuteTime": {
     "end_time": "2022-08-07T20:24:53.466185Z",
     "start_time": "2022-08-07T20:24:53.410718Z"
    }
   },
   "outputs": [
    {
     "data": {
      "text/plain": [
       "['Ahmed', 'Ali', 'Hasan', 'Hesham', 'Kamel', 'Kareem', 'Mohammed', 'Zain']"
      ]
     },
     "execution_count": 3,
     "metadata": {},
     "output_type": "execute_result"
    }
   ],
   "source": [
    "List = [\"Ahmed\", \"Mohammed\", \"Zain\", \"Ali\", \"Hesham\", \"Kamel\", \"Hasan\", \"Kareem\"]\n",
    "# List or Array MUST be sorted\n",
    "List.sort()\n",
    "List"
   ]
  },
  {
   "cell_type": "code",
   "execution_count": 4,
   "id": "ac024444",
   "metadata": {
    "ExecuteTime": {
     "end_time": "2022-08-07T20:24:53.478161Z",
     "start_time": "2022-08-07T20:24:53.470246Z"
    }
   },
   "outputs": [
    {
     "name": "stdout",
     "output_type": "stream",
     "text": [
      "Value\tIterative\tRecursion\n",
      "Ahmed\t0\t\t0\n",
      "Hany\t-1\t\t-1\n",
      "Zain\t7\t\t7\n",
      "Ali\t1\t\t1\n",
      "Mahmoud\t-1\t\t-1\n"
     ]
    }
   ],
   "source": [
    "values = [\"Ahmed\", \"Hany\", \"Zain\", \"Ali\", \"Mahmoud\"]\n",
    "print(\"Value\\tIterative\\tRecursion\")\n",
    "for value in values:\n",
    "    print(f\"{value}\\t{binarySearchIterative(List, value)}\\t\\t{binarySearchRecursion(List, value, 0, len(List)-1)}\")"
   ]
  }
 ],
 "metadata": {
  "kernelspec": {
   "display_name": "Python 3 (ipykernel)",
   "language": "python",
   "name": "python3"
  },
  "language_info": {
   "codemirror_mode": {
    "name": "ipython",
    "version": 3
   },
   "file_extension": ".py",
   "mimetype": "text/x-python",
   "name": "python",
   "nbconvert_exporter": "python",
   "pygments_lexer": "ipython3",
   "version": "3.9.12"
  }
 },
 "nbformat": 4,
 "nbformat_minor": 5
}
