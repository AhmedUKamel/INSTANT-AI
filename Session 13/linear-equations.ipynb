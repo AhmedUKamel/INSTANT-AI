{
 "cells": [
  {
   "cell_type": "markdown",
   "id": "c9933762",
   "metadata": {},
   "source": [
    "# Linear equations\n",
    "**General formula:** Y = M . X + C (M and C are constants)"
   ]
  },
  {
   "cell_type": "markdown",
   "id": "b993e2fe",
   "metadata": {},
   "source": [
    "### Import libraries"
   ]
  },
  {
   "cell_type": "code",
   "execution_count": null,
   "id": "7f23bf2a",
   "metadata": {
    "ExecuteTime": {
     "end_time": "2022-09-18T21:02:26.862323Z",
     "start_time": "2022-09-18T21:02:26.342103Z"
    }
   },
   "outputs": [],
   "source": [
    "import matplotlib.pyplot as plt\n",
    "import numpy as np"
   ]
  },
  {
   "cell_type": "markdown",
   "id": "2ff11f55",
   "metadata": {},
   "source": [
    "### Non-linear equation\n",
    "**Quadratic equation example:** <br />\n",
    "y = (x + 1) <sup> 2 </sup> + 5"
   ]
  },
  {
   "cell_type": "code",
   "execution_count": null,
   "id": "a0ca8fa1",
   "metadata": {
    "ExecuteTime": {
     "end_time": "2022-09-18T21:02:26.868595Z",
     "start_time": "2022-09-18T21:02:26.865094Z"
    }
   },
   "outputs": [],
   "source": [
    "x = np.linspace(-10,10,1000)\n",
    "y = (x + 1) ** 2 + 5"
   ]
  },
  {
   "cell_type": "code",
   "execution_count": null,
   "id": "d3a22a42",
   "metadata": {
    "ExecuteTime": {
     "end_time": "2022-09-18T21:02:27.017672Z",
     "start_time": "2022-09-18T21:02:26.870714Z"
    }
   },
   "outputs": [],
   "source": [
    "plt.xlabel('x')\n",
    "plt.ylabel('y')\n",
    "plt.plot(x,y)"
   ]
  },
  {
   "cell_type": "markdown",
   "id": "d5e5eb68",
   "metadata": {},
   "source": [
    "### How to convert any equation to linear one\n",
    "**Steps in order:**\n",
    "1. Assume a capital letter -recommended- (first degree) for each variable and its degree.\n",
    "2. Change the coordinates axes according to new variables.\n",
    "\n",
    "**Solution:** <br />\n",
    "let X = (X + 1) <sup> 2 </sup> <br />\n",
    "Y = y\n",
    "\n",
    "**Y = X + 5**"
   ]
  },
  {
   "cell_type": "code",
   "execution_count": null,
   "id": "4b5f3ecc",
   "metadata": {
    "ExecuteTime": {
     "end_time": "2022-09-18T21:02:27.022588Z",
     "start_time": "2022-09-18T21:02:27.020268Z"
    }
   },
   "outputs": [],
   "source": [
    "X = np.linspace(-10,10,1000)\n",
    "Y = X + 5"
   ]
  },
  {
   "cell_type": "code",
   "execution_count": null,
   "id": "bd405700",
   "metadata": {
    "ExecuteTime": {
     "end_time": "2022-09-18T21:02:59.790518Z",
     "start_time": "2022-09-18T21:02:59.686184Z"
    }
   },
   "outputs": [],
   "source": [
    "plt.xlabel('(X + 1) ^ 2')\n",
    "plt.ylabel('y')\n",
    "plt.plot(X,Y)"
   ]
  }
 ],
 "metadata": {
  "kernelspec": {
   "display_name": "Python 3 (ipykernel)",
   "language": "python",
   "name": "python3"
  },
  "language_info": {
   "codemirror_mode": {
    "name": "ipython",
    "version": 3
   },
   "file_extension": ".py",
   "mimetype": "text/x-python",
   "name": "python",
   "nbconvert_exporter": "python",
   "pygments_lexer": "ipython3",
   "version": "3.9.13"
  }
 },
 "nbformat": 4,
 "nbformat_minor": 5
}
