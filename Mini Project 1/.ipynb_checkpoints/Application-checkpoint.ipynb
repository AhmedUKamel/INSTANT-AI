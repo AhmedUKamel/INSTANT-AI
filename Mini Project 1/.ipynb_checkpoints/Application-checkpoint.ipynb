{
 "cells": [
  {
   "cell_type": "code",
   "execution_count": null,
   "id": "6c76a257",
   "metadata": {
    "ExecuteTime": {
     "end_time": "2022-08-23T15:19:13.457885Z",
     "start_time": "2022-08-23T15:19:13.443497Z"
    }
   },
   "outputs": [],
   "source": [
    "from User import *\n",
    "from Library import *"
   ]
  },
  {
   "cell_type": "code",
   "execution_count": null,
   "id": "4d8f44f2",
   "metadata": {
    "ExecuteTime": {
     "end_time": "2022-08-23T15:19:13.469994Z",
     "start_time": "2022-08-23T15:19:13.461819Z"
    }
   },
   "outputs": [],
   "source": [
    "# Library details\n",
    "library_name = 'Harry Online Library'\n",
    "books_list = ['Rich dad, poor dad','Atomic habits','Hamlet','Pride and Prejudice']\n",
    "users_list = [User('Ahmed Kamel','AhmedUKamel','123'),User('Ali Samy','AliSamy','456')]\n",
    "\n",
    "# Library\n",
    "current_library = Library(books_list,library_name,users=users_list)\n",
    "\n",
    "# User \n",
    "current_user = None"
   ]
  },
  {
   "cell_type": "code",
   "execution_count": null,
   "id": "6092612a",
   "metadata": {
    "ExecuteTime": {
     "end_time": "2022-08-23T15:19:13.481467Z",
     "start_time": "2022-08-23T15:19:13.474220Z"
    }
   },
   "outputs": [],
   "source": [
    "def main_page():\n",
    "    print(f'Welcome to {current_library.name} - Travel around the world by reading books from your position')\n",
    "    global current_user\n",
    "    \n",
    "    while(True):\n",
    "        ans = input('Do you have an account ?\\n\\t1.Sign In\\n\\t2.Sign Up\\n\\t3.Exit\\n\\tAnswer: ')\n",
    "        \n",
    "        if ans == '1':\n",
    "            current_user = current_library.signin()\n",
    "            \n",
    "            if not current_user:\n",
    "                print('Error Signing in ...\\nPlease, try again !')\n",
    "                current_user = None\n",
    "                \n",
    "            else:\n",
    "                dashboard()\n",
    "        \n",
    "        elif ans == '2':\n",
    "            while not current_library.signup():\n",
    "                print('Error Signing up ...Please, try again !')\n",
    "                \n",
    "        elif ans == '3':\n",
    "            return\n",
    "        \n",
    "        else:\n",
    "            print('Invalid option !')"
   ]
  },
  {
   "cell_type": "code",
   "execution_count": null,
   "id": "8b309d6e",
   "metadata": {
    "ExecuteTime": {
     "end_time": "2022-08-23T15:20:28.028534Z",
     "start_time": "2022-08-23T15:20:28.023271Z"
    }
   },
   "outputs": [],
   "source": [
    "def dashboard():\n",
    "    print(f'Welcome {current_user.full_name}')\n",
    "    \n",
    "    while(True):\n",
    "        ans = input('''Operations:\n",
    "                   \\n\\t1.Show online library books\n",
    "                   \\n\\t2.Show lent books\n",
    "                   \\n\\t3.Show your books\n",
    "                   \\n\\t4.Add a book to the collection\n",
    "                   \\n\\t5.Remove a book from the collection\n",
    "                   \\n\\t6.Lend me a book\n",
    "                   \\n\\t7.Return a book\n",
    "                   \\n\\t8.Log out\n",
    "                   \\n\\tAnswer: ''')\n",
    "        \n",
    "        if ans == '1':\n",
    "            current_library.display_books()\n",
    "        \n",
    "        elif ans == '2':\n",
    "            current_library.borrowed_books()\n",
    "            \n",
    "        elif ans == '3':\n",
    "            current_user.display_books()\n",
    "            \n",
    "        elif ans == '4':\n",
    "            book_name = input('Enter book name: ')\n",
    "            if not current_library.add_book(book_name):\n",
    "                print('Error adding book')\n",
    "        \n",
    "        elif ans == '5':\n",
    "            book_name = input('Enter book name: ')\n",
    "            if not current_library.remove_book(book_name):\n",
    "                print('Error removing book')\n",
    "        \n",
    "        elif ans == '6':\n",
    "            book_name = input('Enter book name: ')\n",
    "            if current_library.lend_book(book_name,current_user):\n",
    "                print(f'{book_name} lent successfully')\n",
    "            else:\n",
    "                print('Error lending book')\n",
    "        \n",
    "        elif ans == '7':\n",
    "            book_name = input('Enter book name: ')\n",
    "            if not current_library.return_book(book_name,current_user):\n",
    "                print('Error returning book')\n",
    "        \n",
    "        elif ans == '8': return\n",
    "        \n",
    "        else: print('Invalid option')"
   ]
  },
  {
   "cell_type": "code",
   "execution_count": null,
   "id": "3f5e4fc1",
   "metadata": {
    "ExecuteTime": {
     "end_time": "2022-08-23T15:23:34.258287Z",
     "start_time": "2022-08-23T15:20:28.481062Z"
    },
    "scrolled": false
   },
   "outputs": [],
   "source": [
    "main_page()"
   ]
  }
 ],
 "metadata": {
  "kernelspec": {
   "display_name": "Python 3 (ipykernel)",
   "language": "python",
   "name": "python3"
  },
  "language_info": {
   "codemirror_mode": {
    "name": "ipython",
    "version": 3
   },
   "file_extension": ".py",
   "mimetype": "text/x-python",
   "name": "python",
   "nbconvert_exporter": "python",
   "pygments_lexer": "ipython3",
   "version": "3.9.12"
  }
 },
 "nbformat": 4,
 "nbformat_minor": 5
}
