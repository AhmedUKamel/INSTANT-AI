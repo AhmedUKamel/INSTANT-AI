{
 "cells": [
  {
   "cell_type": "markdown",
   "id": "a4c50079",
   "metadata": {},
   "source": [
    "## Import classes"
   ]
  },
  {
   "cell_type": "code",
   "execution_count": null,
   "id": "7f955d5c",
   "metadata": {
    "ExecuteTime": {
     "end_time": "2022-08-28T14:28:05.397682Z",
     "start_time": "2022-08-28T14:28:05.385475Z"
    }
   },
   "outputs": [],
   "source": [
    "from User import User\n",
    "from Library import Library\n",
    "from Website import Website"
   ]
  },
  {
   "cell_type": "markdown",
   "id": "2470b48c",
   "metadata": {
    "ExecuteTime": {
     "end_time": "2022-08-28T14:28:05.425466Z",
     "start_time": "2022-08-28T14:28:05.401992Z"
    }
   },
   "source": [
    "## Create library and users"
   ]
  },
  {
   "cell_type": "code",
   "execution_count": null,
   "id": "213a1dd7",
   "metadata": {
    "ExecuteTime": {
     "end_time": "2022-08-28T14:35:02.349175Z",
     "start_time": "2022-08-28T14:35:02.341226Z"
    }
   },
   "outputs": [],
   "source": [
    "users = [User('Ahmed Kamel','AhmedUKamel','123',True),User('Ahmed Hatem','AhmedUHatem','456')]\n",
    "books=['Clean Code','Atomic Habits','Rich dad, Poor dad']\n",
    "library = Library('Ahmed Store',books=books,users=users)"
   ]
  },
  {
   "cell_type": "markdown",
   "id": "3f223c27",
   "metadata": {},
   "source": [
    "## Create my website"
   ]
  },
  {
   "cell_type": "code",
   "execution_count": null,
   "id": "22a2dede",
   "metadata": {
    "ExecuteTime": {
     "end_time": "2022-08-28T14:28:05.449484Z",
     "start_time": "2022-08-28T14:28:05.446137Z"
    }
   },
   "outputs": [],
   "source": [
    "web = Website(library)"
   ]
  },
  {
   "cell_type": "markdown",
   "id": "6299ca6c",
   "metadata": {},
   "source": [
    "## Open website (Main Page)"
   ]
  },
  {
   "cell_type": "code",
   "execution_count": null,
   "id": "3ee75d56",
   "metadata": {
    "ExecuteTime": {
     "end_time": "2022-08-28T14:31:54.747833Z",
     "start_time": "2022-08-28T14:28:05.452220Z"
    }
   },
   "outputs": [],
   "source": [
    "web.mainPage()"
   ]
  }
 ],
 "metadata": {
  "kernelspec": {
   "display_name": "Python 3 (ipykernel)",
   "language": "python",
   "name": "python3"
  },
  "language_info": {
   "codemirror_mode": {
    "name": "ipython",
    "version": 3
   },
   "file_extension": ".py",
   "mimetype": "text/x-python",
   "name": "python",
   "nbconvert_exporter": "python",
   "pygments_lexer": "ipython3",
   "version": "3.9.12"
  }
 },
 "nbformat": 4,
 "nbformat_minor": 5
}
