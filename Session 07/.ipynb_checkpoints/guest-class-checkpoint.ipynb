{
 "cells": [
  {
   "cell_type": "code",
   "execution_count": null,
   "id": "eba4baf3",
   "metadata": {
    "ExecuteTime": {
     "end_time": "2022-08-14T18:30:15.575905Z",
     "start_time": "2022-08-14T18:30:15.567858Z"
    }
   },
   "outputs": [],
   "source": [
    "class Guest:\n",
    "    def __init__(self,name,gender):\n",
    "        self.name = name\n",
    "        self.gender = gender        \n",
    "        if self.gender.strip().lower() == 'male':\n",
    "            print(f'Welcome, Mr.{self.name}\\nIt\\'s from our pleasure to serve you')\n",
    "        elif self.gender.strip().lower() == 'female':\n",
    "            print(f'Welcome, Mrs.{self.name}\\nIt\\'s from our pleasure to serve you')\n",
    "    \n",
    "    def __del__(self):\n",
    "        if self.gender.strip().lower() == 'male':\n",
    "            print(f'We will miss you Mr.{self.name}')\n",
    "        elif self.gender.strip().lower() == 'female':\n",
    "            print(f'We will miss you Mrs.{self.name}.')"
   ]
  },
  {
   "cell_type": "code",
   "execution_count": null,
   "id": "0d9a9a98",
   "metadata": {
    "ExecuteTime": {
     "end_time": "2022-08-14T18:30:21.439424Z",
     "start_time": "2022-08-14T18:30:21.433783Z"
    }
   },
   "outputs": [],
   "source": [
    "a = Guest('Ahmed','Male')"
   ]
  },
  {
   "cell_type": "code",
   "execution_count": null,
   "id": "c53a6323",
   "metadata": {
    "ExecuteTime": {
     "end_time": "2022-08-14T18:30:20.132448Z",
     "start_time": "2022-08-14T18:30:20.126690Z"
    }
   },
   "outputs": [],
   "source": [
    "del a"
   ]
  }
 ],
 "metadata": {
  "kernelspec": {
   "display_name": "Python 3 (ipykernel)",
   "language": "python",
   "name": "python3"
  },
  "language_info": {
   "codemirror_mode": {
    "name": "ipython",
    "version": 3
   },
   "file_extension": ".py",
   "mimetype": "text/x-python",
   "name": "python",
   "nbconvert_exporter": "python",
   "pygments_lexer": "ipython3",
   "version": "3.9.12"
  }
 },
 "nbformat": 4,
 "nbformat_minor": 5
}
