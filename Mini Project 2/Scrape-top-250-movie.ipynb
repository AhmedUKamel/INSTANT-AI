{
 "cells": [
  {
   "cell_type": "markdown",
   "id": "3fad3c07",
   "metadata": {},
   "source": [
    "### Import modules"
   ]
  },
  {
   "cell_type": "code",
   "execution_count": null,
   "id": "9f77fc77",
   "metadata": {
    "ExecuteTime": {
     "end_time": "2022-09-07T21:15:19.979128Z",
     "start_time": "2022-09-07T21:15:19.477755Z"
    }
   },
   "outputs": [],
   "source": [
    "import csv\n",
    "import requests\n",
    "import pandas as pd\n",
    "from bs4 import BeautifulSoup"
   ]
  },
  {
   "cell_type": "markdown",
   "id": "a8d942c7",
   "metadata": {},
   "source": [
    "### Global variables"
   ]
  },
  {
   "cell_type": "code",
   "execution_count": null,
   "id": "e0295bd6",
   "metadata": {
    "ExecuteTime": {
     "end_time": "2022-09-07T21:15:19.986755Z",
     "start_time": "2022-09-07T21:15:19.982592Z"
    }
   },
   "outputs": [],
   "source": [
    "website_url = 'https://m.imdb.com/chart/top/'\n",
    "movies = [['Movie Rank','Movie Name','Movie Year','Movie Rating']]"
   ]
  },
  {
   "cell_type": "markdown",
   "id": "c6e11e79",
   "metadata": {},
   "source": [
    "### Scraping function"
   ]
  },
  {
   "cell_type": "code",
   "execution_count": null,
   "id": "a127cd79",
   "metadata": {
    "ExecuteTime": {
     "end_time": "2022-09-07T21:15:19.995301Z",
     "start_time": "2022-09-07T21:15:19.988654Z"
    }
   },
   "outputs": [],
   "source": [
    "def getMovies(url):\n",
    "    src = requests.get(website_url)\n",
    "    soup = BeautifulSoup(src.content,'html.parser')\n",
    "    divs = soup.find_all('div',class_='col-xs-12 col-md-6')\n",
    "    movies = list()\n",
    "    for div in divs:\n",
    "        rank_name_year = div.h4.text.strip('\\n').split('\\n')\n",
    "        rank_name_year[0] = rank_name_year[0].strip('.')\n",
    "        rank_name_year[2] = rank_name_year[2].strip('(').strip(')')\n",
    "        rating = div.find('span',class_='imdb-rating').text\n",
    "        rank_name_year.append(rating)\n",
    "        movies.append(rank_name_year)\n",
    "    return movies"
   ]
  },
  {
   "cell_type": "markdown",
   "id": "bc84bb46",
   "metadata": {},
   "source": [
    "### Get movies info"
   ]
  },
  {
   "cell_type": "code",
   "execution_count": null,
   "id": "7e1cfa21",
   "metadata": {
    "ExecuteTime": {
     "end_time": "2022-09-07T21:15:22.186675Z",
     "start_time": "2022-09-07T21:15:19.997841Z"
    }
   },
   "outputs": [],
   "source": [
    "movies.extend(getMovies(website_url))"
   ]
  },
  {
   "cell_type": "markdown",
   "id": "9d867d1e",
   "metadata": {},
   "source": [
    "### Write data in csv file"
   ]
  },
  {
   "cell_type": "code",
   "execution_count": null,
   "id": "36ccf3f1",
   "metadata": {
    "ExecuteTime": {
     "end_time": "2022-09-07T21:15:22.194915Z",
     "start_time": "2022-09-07T21:15:22.188848Z"
    }
   },
   "outputs": [],
   "source": [
    "with open('top-250-movie.csv',mode='w',encoding='UTF-8',newline='') as file:\n",
    "    writer = csv.writer(file)\n",
    "    for movie in movies:\n",
    "        writer.writerow(movie)"
   ]
  },
  {
   "cell_type": "markdown",
   "id": "19d3080f",
   "metadata": {},
   "source": [
    "### Read data in Data Frame"
   ]
  },
  {
   "cell_type": "code",
   "execution_count": null,
   "id": "70377f55",
   "metadata": {
    "ExecuteTime": {
     "end_time": "2022-09-07T21:15:36.863500Z",
     "start_time": "2022-09-07T21:15:36.818424Z"
    }
   },
   "outputs": [],
   "source": [
    "dataFrame = pd.read_csv('top-250-movie.csv')\n",
    "dataFrame"
   ]
  }
 ],
 "metadata": {
  "kernelspec": {
   "display_name": "Python 3 (ipykernel)",
   "language": "python",
   "name": "python3"
  },
  "language_info": {
   "codemirror_mode": {
    "name": "ipython",
    "version": 3
   },
   "file_extension": ".py",
   "mimetype": "text/x-python",
   "name": "python",
   "nbconvert_exporter": "python",
   "pygments_lexer": "ipython3",
   "version": "3.9.13"
  }
 },
 "nbformat": 4,
 "nbformat_minor": 5
}
